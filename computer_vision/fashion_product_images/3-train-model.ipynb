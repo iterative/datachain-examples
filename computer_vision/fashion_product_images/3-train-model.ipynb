{
 "cells": [
  {
   "cell_type": "markdown",
   "id": "1f6c7aad-99eb-4420-a6b4-06fa0b5ce939",
   "metadata": {},
   "source": [
    "<img src=\"static/images/datachain-logo.png\" alt=\"Dataset\" style=\"width: 200px;\"/>\n",
    "\n",
    "# 💪 ML Training using Datachain and PyToch: Image Classification\n",
    "\n",
    "In this tutorial, you'll learn how to train and evaluate an image classification model using **[Datachain](https://github.com/iterative/datachain)** and PyTorch. You'll load a dataset, add target labels, prepare data loaders, train the model, and evaluate its performance.\n",
    "\n",
    "## 📋  Agenda\n",
    "\n",
    "1. Load Dataset\n",
    "2. Add Target Labels\n",
    "3. Prepare Training Data Loader\n",
    "4. Train the Model\n",
    "5. Evaluate the Model\n",
    "   \n",
    "\n",
    "## 🛠 Prerequisites\n",
    "\n",
    "Before you begin, ensure you have\n",
    "\n",
    "- **[Datachain](https://github.com/iterative/datachain)** is installed in your environment.\n",
    "- The necessary dependencies installed, including PyTorch and the required libraries (see `requirements.txt`).\n",
    "\n",
    "So, fasten your seatbelts, and let's dive into image classification like never before! 🚀📷"
   ]
  },
  {
   "cell_type": "code",
   "execution_count": 1,
   "id": "6e60ae41-e1fe-411e-a424-688360bf4366",
   "metadata": {
    "execution": {
     "iopub.execute_input": "2024-08-27T17:19:21.535648Z",
     "iopub.status.busy": "2024-08-27T17:19:21.535097Z",
     "iopub.status.idle": "2024-08-27T17:19:23.061075Z",
     "shell.execute_reply": "2024-08-27T17:19:23.060612Z",
     "shell.execute_reply.started": "2024-08-27T17:19:21.535616Z"
    }
   },
   "outputs": [],
   "source": [
    "%load_ext autoreload\n",
    "%autoreload 2\n",
    "\n",
    "import numpy as np\n",
    "import torch\n",
    "\n",
    "from datachain import C, DataChain\n",
    "from torch import optim\n",
    "from torch.utils.data import DataLoader\n",
    "\n",
    "from src.train import (\n",
    "    CNN,\n",
    "    build_evaluation_report,\n",
    "    evaluate_model,\n",
    "    train_model,\n",
    "    transform,\n",
    ")"
   ]
  },
  {
   "cell_type": "markdown",
   "id": "a08bf60e-fafc-454f-88d8-53d302db9209",
   "metadata": {},
   "source": [
    "# 🧩 Split train/test/val\n",
    "\n",
    "**Note**: skip this stage if you already split datasets in `2-working-with-image-catalog.ipynb`\n",
    "\n",
    "In this example, we define a `train_test_split` function to randomly split the dataset into the train, test, and validation sets. \n",
    "\n",
    "The workflow:\n",
    "- Create a function that generates a random label (`\"train\"`, `\"test\"`, or `\"val\"`)\n",
    "- Use the `map()` method to apply the function to each row\n",
    "- Use the `filter()` and `save()` methods to save split datasets"
   ]
  },
  {
   "cell_type": "markdown",
   "id": "827470fb-933c-428c-999f-76cefacad725",
   "metadata": {},
   "source": [
    "## Define `train_test_split` function\n",
    "\n",
    "- The function randomly chooses one of the labels (`\"train\"`, `\"test\"`, or `\"val\"`) using `random.choices` with the specified weights (`0.7`, `0.2`, and `0.1`, respectively)."
   ]
  },
  {
   "cell_type": "code",
   "execution_count": 2,
   "id": "24328822-03ab-4625-9bec-857ca1541e57",
   "metadata": {
    "execution": {
     "iopub.execute_input": "2024-08-27T17:19:23.375320Z",
     "iopub.status.busy": "2024-08-27T17:19:23.371322Z",
     "iopub.status.idle": "2024-08-27T17:19:23.404426Z",
     "shell.execute_reply": "2024-08-27T17:19:23.403889Z",
     "shell.execute_reply.started": "2024-08-27T17:19:23.375273Z"
    },
    "scrolled": true
   },
   "outputs": [],
   "source": [
    "def train_test_split(path) -> str:\n",
    "    import random\n",
    "    labels = [\"train\", \"test\", \"val\"]\n",
    "    return random.choices(labels, weights = [0.7, 0.2, 0.1])[0]"
   ]
  },
  {
   "cell_type": "markdown",
   "id": "1efc4e14-49cd-4107-8b07-4f2b6729bfa1",
   "metadata": {},
   "source": [
    "## Add a signal (`split`)\n",
    "\n",
    "- This code loads the `fashion-product-images` dataset.\n",
    "- It then applies the batched UDF `train_test_split_batch` to the dataset, adding a new column `\"split\"` with the randomly assigned labels.\n",
    "- Finally, it converts the dataset to a Pandas DataFrame and displays the first few rows using `head()`."
   ]
  },
  {
   "cell_type": "code",
   "execution_count": 3,
   "id": "bc28d640-7fd8-446c-b8e6-8ff38bd76638",
   "metadata": {
    "execution": {
     "iopub.execute_input": "2024-08-27T17:19:23.856091Z",
     "iopub.status.busy": "2024-08-27T17:19:23.855488Z",
     "iopub.status.idle": "2024-08-27T17:19:25.512903Z",
     "shell.execute_reply": "2024-08-27T17:19:25.512653Z",
     "shell.execute_reply.started": "2024-08-27T17:19:23.856055Z"
    }
   },
   "outputs": [
    {
     "name": "stderr",
     "output_type": "stream",
     "text": [
      "Preparing: 15401 rows [00:00, 28034.94 rows/s]\n",
      "Processed: 15401 rows [00:00, 45971.20 rows/s]\n",
      "Saving: 15401 rows [00:00, 30731.44 rows/s]\n",
      "Cleanup: 2 tables [00:00, 1166.22 tables/s]\n"
     ]
    },
    {
     "data": {
      "text/html": [
       "<div>\n",
       "<style scoped>\n",
       "    .dataframe tbody tr th:only-of-type {\n",
       "        vertical-align: middle;\n",
       "    }\n",
       "\n",
       "    .dataframe tbody tr th {\n",
       "        vertical-align: top;\n",
       "    }\n",
       "\n",
       "    .dataframe thead tr th {\n",
       "        text-align: left;\n",
       "    }\n",
       "</style>\n",
       "<table border=\"1\" class=\"dataframe\">\n",
       "  <thead>\n",
       "    <tr>\n",
       "      <th></th>\n",
       "      <th colspan=\"9\" halign=\"left\">file</th>\n",
       "      <th>filename</th>\n",
       "      <th>...</th>\n",
       "      <th>mastercategory</th>\n",
       "      <th>subcategory</th>\n",
       "      <th>articletype</th>\n",
       "      <th>basecolour</th>\n",
       "      <th>season</th>\n",
       "      <th>year</th>\n",
       "      <th>usage</th>\n",
       "      <th>productdisplayname</th>\n",
       "      <th>right_filename</th>\n",
       "      <th>split</th>\n",
       "    </tr>\n",
       "    <tr>\n",
       "      <th></th>\n",
       "      <th>source</th>\n",
       "      <th>path</th>\n",
       "      <th>size</th>\n",
       "      <th>version</th>\n",
       "      <th>etag</th>\n",
       "      <th>is_latest</th>\n",
       "      <th>last_modified</th>\n",
       "      <th>location</th>\n",
       "      <th>vtype</th>\n",
       "      <th></th>\n",
       "      <th>...</th>\n",
       "      <th></th>\n",
       "      <th></th>\n",
       "      <th></th>\n",
       "      <th></th>\n",
       "      <th></th>\n",
       "      <th></th>\n",
       "      <th></th>\n",
       "      <th></th>\n",
       "      <th></th>\n",
       "      <th></th>\n",
       "    </tr>\n",
       "  </thead>\n",
       "  <tbody>\n",
       "    <tr>\n",
       "      <th>0</th>\n",
       "      <td>gs://datachain-demo</td>\n",
       "      <td>fashion-product-images/images/10003.jpg</td>\n",
       "      <td>11564</td>\n",
       "      <td>1719489683599343</td>\n",
       "      <td>CO/fpJ7e+4YDEAE=</td>\n",
       "      <td>1</td>\n",
       "      <td>2024-06-27 12:01:23.651000+00:00</td>\n",
       "      <td>None</td>\n",
       "      <td></td>\n",
       "      <td>10003.jpg</td>\n",
       "      <td>...</td>\n",
       "      <td>Apparel</td>\n",
       "      <td>Topwear</td>\n",
       "      <td>Tshirts</td>\n",
       "      <td>White</td>\n",
       "      <td>Fall</td>\n",
       "      <td>2011.0</td>\n",
       "      <td>Sports</td>\n",
       "      <td>Nike Women As Nike Eleme White T-Shirt</td>\n",
       "      <td>10003.jpg</td>\n",
       "      <td>train</td>\n",
       "    </tr>\n",
       "    <tr>\n",
       "      <th>1</th>\n",
       "      <td>gs://datachain-demo</td>\n",
       "      <td>fashion-product-images/images/10005.jpg</td>\n",
       "      <td>16677</td>\n",
       "      <td>1719489744441124</td>\n",
       "      <td>CKSeprve+4YDEAE=</td>\n",
       "      <td>1</td>\n",
       "      <td>2024-06-27 12:02:24.500000+00:00</td>\n",
       "      <td>None</td>\n",
       "      <td></td>\n",
       "      <td>10005.jpg</td>\n",
       "      <td>...</td>\n",
       "      <td>Apparel</td>\n",
       "      <td>Topwear</td>\n",
       "      <td>Tshirts</td>\n",
       "      <td>Blue</td>\n",
       "      <td>Fall</td>\n",
       "      <td>2011.0</td>\n",
       "      <td>Sports</td>\n",
       "      <td>Nike Men As Ss Trainin Blue T-Shirts</td>\n",
       "      <td>10005.jpg</td>\n",
       "      <td>train</td>\n",
       "    </tr>\n",
       "    <tr>\n",
       "      <th>2</th>\n",
       "      <td>gs://datachain-demo</td>\n",
       "      <td>fashion-product-images/images/10006.jpg</td>\n",
       "      <td>2146</td>\n",
       "      <td>1719489713329967</td>\n",
       "      <td>CK+uu6ze+4YDEAE=</td>\n",
       "      <td>1</td>\n",
       "      <td>2024-06-27 12:01:53.379000+00:00</td>\n",
       "      <td>None</td>\n",
       "      <td></td>\n",
       "      <td>10006.jpg</td>\n",
       "      <td>...</td>\n",
       "      <td>Apparel</td>\n",
       "      <td>Topwear</td>\n",
       "      <td>Tshirts</td>\n",
       "      <td>Black</td>\n",
       "      <td>Fall</td>\n",
       "      <td>2011.0</td>\n",
       "      <td>Sports</td>\n",
       "      <td>Nike Men AS T90 Black Tshirts</td>\n",
       "      <td>10006.jpg</td>\n",
       "      <td>test</td>\n",
       "    </tr>\n",
       "  </tbody>\n",
       "</table>\n",
       "<p>3 rows × 21 columns</p>\n",
       "</div>"
      ],
      "text/plain": [
       "                  file                                                  \\\n",
       "                source                                     path   size   \n",
       "0  gs://datachain-demo  fashion-product-images/images/10003.jpg  11564   \n",
       "1  gs://datachain-demo  fashion-product-images/images/10005.jpg  16677   \n",
       "2  gs://datachain-demo  fashion-product-images/images/10006.jpg   2146   \n",
       "\n",
       "                                                 \\\n",
       "            version              etag is_latest   \n",
       "0  1719489683599343  CO/fpJ7e+4YDEAE=         1   \n",
       "1  1719489744441124  CKSeprve+4YDEAE=         1   \n",
       "2  1719489713329967  CK+uu6ze+4YDEAE=         1   \n",
       "\n",
       "                                                    filename  ...  \\\n",
       "                     last_modified location vtype             ...   \n",
       "0 2024-06-27 12:01:23.651000+00:00     None        10003.jpg  ...   \n",
       "1 2024-06-27 12:02:24.500000+00:00     None        10005.jpg  ...   \n",
       "2 2024-06-27 12:01:53.379000+00:00     None        10006.jpg  ...   \n",
       "\n",
       "  mastercategory subcategory articletype basecolour season    year   usage  \\\n",
       "                                                                             \n",
       "0        Apparel     Topwear     Tshirts      White   Fall  2011.0  Sports   \n",
       "1        Apparel     Topwear     Tshirts       Blue   Fall  2011.0  Sports   \n",
       "2        Apparel     Topwear     Tshirts      Black   Fall  2011.0  Sports   \n",
       "\n",
       "                       productdisplayname right_filename  split  \n",
       "                                                                 \n",
       "0  Nike Women As Nike Eleme White T-Shirt      10003.jpg  train  \n",
       "1    Nike Men As Ss Trainin Blue T-Shirts      10005.jpg  train  \n",
       "2           Nike Men AS T90 Black Tshirts      10006.jpg   test  \n",
       "\n",
       "[3 rows x 21 columns]"
      ]
     },
     "execution_count": 3,
     "metadata": {},
     "output_type": "execute_result"
    }
   ],
   "source": [
    "# Add signal\n",
    "\n",
    "ds = (\n",
    "    DataChain.from_dataset(\"fashion-product-images\")\n",
    "    .filter((C(\"masterCategory\") == \"Apparel\") & (C(\"subCategory\") == \"Topwear\"))\n",
    "    .map(split=train_test_split, params=[\"file.path\"], output=str)\n",
    "    .save()\n",
    ")\n",
    "\n",
    "ds.to_pandas().head(3)"
   ]
  },
  {
   "cell_type": "markdown",
   "id": "7e3471fd-01eb-43d8-b48a-947c0fcf2584",
   "metadata": {},
   "source": [
    "By running this code, you'll get a Pandas DataFrame with a new column `split` containing the labels `\"train\", \"test\", or \"val\"` randomly assigned to each row based on the specified weights."
   ]
  },
  {
   "cell_type": "code",
   "execution_count": 4,
   "id": "1ae2a028-aec5-425b-a16a-67bdc581e920",
   "metadata": {
    "execution": {
     "iopub.execute_input": "2024-08-27T17:19:25.513729Z",
     "iopub.status.busy": "2024-08-27T17:19:25.513629Z",
     "iopub.status.idle": "2024-08-27T17:19:25.655855Z",
     "shell.execute_reply": "2024-08-27T17:19:25.655556Z",
     "shell.execute_reply.started": "2024-08-27T17:19:25.513721Z"
    }
   },
   "outputs": [
    {
     "data": {
      "text/plain": [
       "split\n",
       "train    10741\n",
       "test      3090\n",
       "val       1570\n",
       "Name: count, dtype: int64"
      ]
     },
     "execution_count": 4,
     "metadata": {},
     "output_type": "execute_result"
    }
   ],
   "source": [
    "ds.to_pandas()[\"split\"].value_counts()"
   ]
  },
  {
   "cell_type": "markdown",
   "id": "19bf6fb2-9a57-431b-b7d6-0d38aa02c993",
   "metadata": {},
   "source": [
    "## Save `train`, `test` and `val` datasets"
   ]
  },
  {
   "cell_type": "code",
   "execution_count": 5,
   "id": "e8aa74c5-519a-46a3-85c6-ad1252b618c2",
   "metadata": {
    "execution": {
     "iopub.execute_input": "2024-08-27T17:19:25.656427Z",
     "iopub.status.busy": "2024-08-27T17:19:25.656337Z",
     "iopub.status.idle": "2024-08-27T17:19:26.225936Z",
     "shell.execute_reply": "2024-08-27T17:19:26.225489Z",
     "shell.execute_reply.started": "2024-08-27T17:19:25.656418Z"
    }
   },
   "outputs": [
    {
     "name": "stderr",
     "output_type": "stream",
     "text": [
      "Saving: 10741 rows [00:00, 26324.63 rows/s]\n",
      "Saving: 3090 rows [00:00, 81427.45 rows/s]\n",
      "Saving: 1570 rows [00:00, 109469.98 rows/s]\n"
     ]
    }
   ],
   "source": [
    "# Save train, test and val datasets\n",
    "\n",
    "ds_train = (ds.filter(C(\"split\") == \"train\").save(\"fashion-train\"))\n",
    "ds_test = (ds.filter(C(\"split\") == \"test\").save(\"fashion-test\"))\n",
    "ds_val = (ds.filter(C(\"split\") == \"val\").save(\"fashion-val\"))\n"
   ]
  },
  {
   "cell_type": "markdown",
   "id": "8a2756fe-7f02-405c-9237-f5b733c96f48",
   "metadata": {},
   "source": [
    "After running this code, you'll have three separate datasets:\n",
    "\n",
    "1. `fashion-train`: Contains the rows from the original dataset where `split` is `'train'`.\n",
    "2. `fashion-test`: Contains the rows from the original dataset where `split` is `'test'`.\n",
    "3. `fashion-val`: Contains the rows from the original dataset where `split` is `'val'`.\n",
    "\n",
    "You can now use these datasets for training, testing, and validating your machine learning models, respectively."
   ]
  },
  {
   "cell_type": "markdown",
   "id": "833b7ccb-a4cb-4862-af6d-d9e677677244",
   "metadata": {},
   "source": [
    "# 🎯 Define Target\n",
    "\n",
    "This section focuses on how you can utilize DataChain to dynamically add target labels to an image dataset. This is particularly useful when dealing with multi-class categorization tasks, such as classifying fashion items into various style categories.\n",
    "\n",
    "In the given example, we define a list of possible label_names that represent different fashion styles. These labels will serve as our target classes. Using DataChain's udf (user-defined function) feature, we create a function add_target_label that assigns each item in the dataset a target label based on its usage attribute.\n"
   ]
  },
  {
   "cell_type": "markdown",
   "id": "08c36447-34be-4b9c-9d78-63331123333c",
   "metadata": {},
   "source": [
    "## Define Classes "
   ]
  },
  {
   "cell_type": "code",
   "execution_count": 6,
   "id": "0796976d-cf3e-40a3-babb-603958051249",
   "metadata": {
    "execution": {
     "iopub.execute_input": "2024-08-27T17:19:26.226985Z",
     "iopub.status.busy": "2024-08-27T17:19:26.226881Z",
     "iopub.status.idle": "2024-08-27T17:19:26.242268Z",
     "shell.execute_reply": "2024-08-27T17:19:26.241945Z",
     "shell.execute_reply.started": "2024-08-27T17:19:26.226976Z"
    }
   },
   "outputs": [
    {
     "name": "stdout",
     "output_type": "stream",
     "text": [
      "['Casual', 'Ethnic', 'Sports', 'Formal', 'Party', 'Smart Casual', 'Travel', 'nan'] 8\n"
     ]
    }
   ],
   "source": [
    "# Define classes\n",
    "CLASSES = [\n",
    "        \"Casual\",\n",
    "        \"Ethnic\",\n",
    "        \"Sports\",\n",
    "        \"Formal\",\n",
    "        \"Party\",\n",
    "        \"Smart Casual\",\n",
    "        \"Travel\",\n",
    "        \"nan\",\n",
    "    ]\n",
    "NUM_CLASSES = len(CLASSES)\n",
    "\n",
    "print(CLASSES, NUM_CLASSES)"
   ]
  },
  {
   "cell_type": "markdown",
   "id": "bf46317e-17b7-4f74-9e27-cb571da71455",
   "metadata": {
    "execution": {
     "iopub.execute_input": "2024-05-28T11:58:47.503105Z",
     "iopub.status.busy": "2024-05-28T11:58:47.502740Z",
     "iopub.status.idle": "2024-05-28T11:58:47.545785Z",
     "shell.execute_reply": "2024-05-28T11:58:47.545516Z",
     "shell.execute_reply.started": "2024-05-28T11:58:47.503081Z"
    }
   },
   "source": [
    "## Create a Target column\n",
    "\n",
    "The `add_target_label` UDF processes batches of labels, ensuring efficient handling of large datasets. It assigns a label from `CLASSES` or defaults to \"nan\" if the existing label doesn't match any predefined category. \n"
   ]
  },
  {
   "cell_type": "code",
   "execution_count": 7,
   "id": "9f9fdb84-6dfd-4303-9d60-10deaf6d7f7c",
   "metadata": {
    "execution": {
     "iopub.execute_input": "2024-08-27T17:19:26.838598Z",
     "iopub.status.busy": "2024-08-27T17:19:26.838040Z",
     "iopub.status.idle": "2024-08-27T17:19:27.230218Z",
     "shell.execute_reply": "2024-08-27T17:19:27.229750Z",
     "shell.execute_reply.started": "2024-08-27T17:19:26.838568Z"
    },
    "scrolled": true
   },
   "outputs": [
    {
     "name": "stderr",
     "output_type": "stream",
     "text": [
      "/Users/mikhailrozhkov/.pyenv/versions/3.12.4/lib/python3.12/site-packages/tqdm/auto.py:21: TqdmWarning: IProgress not found. Please update jupyter and ipywidgets. See https://ipywidgets.readthedocs.io/en/stable/user_install.html\n",
      "  from .autonotebook import tqdm as notebook_tqdm\n"
     ]
    }
   ],
   "source": [
    "from datachain.lib.pytorch import label_to_int\n",
    "\n",
    "def add_target_label(usage) -> str:\n",
    "    return usage if usage in CLASSES else \"nan\"\n",
    "\n",
    "ds = (\n",
    "    DataChain(name=\"fashion-train\")\n",
    "    .map(target=add_target_label, params=[\"usage\"], output=str)\n",
    "    .map(label=lambda target: label_to_int(target, CLASSES), output=int)\n",
    "    .limit(1000) # Take a sample for the DEMO purposes\n",
    "    .shuffle()\n",
    ")"
   ]
  },
  {
   "cell_type": "markdown",
   "id": "e60a3a13-b6f0-48da-85ab-aa3206edd626",
   "metadata": {},
   "source": [
    "- `add_target_label` is a user-defined function (UDF) that adds target labels to the dataset\n",
    "- The UDF is applied using `add_signals()`, and the dataset is shuffled"
   ]
  },
  {
   "cell_type": "code",
   "execution_count": 8,
   "id": "b4015b6c-8499-40dc-8630-88e884ee5ef6",
   "metadata": {
    "execution": {
     "iopub.execute_input": "2024-08-27T17:19:27.408390Z",
     "iopub.status.busy": "2024-08-27T17:19:27.407971Z",
     "iopub.status.idle": "2024-08-27T17:19:28.791640Z",
     "shell.execute_reply": "2024-08-27T17:19:28.791397Z",
     "shell.execute_reply.started": "2024-08-27T17:19:27.408366Z"
    },
    "scrolled": true
   },
   "outputs": [
    {
     "name": "stderr",
     "output_type": "stream",
     "text": [
      "Preparing: 10741 rows [00:00, 22668.23 rows/s]\n",
      "Processed: 10741 rows [00:00, 50459.69 rows/s]\n",
      "Preparing: 10741 rows [00:00, 26733.15 rows/s]\n",
      "Processed: 10741 rows [00:00, 48956.74 rows/s]\n",
      "Cleanup: 4 tables [00:00, 1596.92 tables/s]"
     ]
    },
    {
     "name": "stdout",
     "output_type": "stream",
     "text": [
      "target\n",
      "Casual    729\n",
      "Ethnic    152\n",
      "Sports     60\n",
      "Formal     59\n",
      "Name: count, dtype: int64\n"
     ]
    },
    {
     "name": "stderr",
     "output_type": "stream",
     "text": [
      "\n"
     ]
    }
   ],
   "source": [
    "print(ds.to_pandas().target.value_counts())"
   ]
  },
  {
   "cell_type": "markdown",
   "id": "04beb1e6-e8b6-4113-856e-0aeca2e1b55d",
   "metadata": {},
   "source": [
    "# 🧠 Train Model\n",
    "\n",
    "Now that you have your dataset loaded and targets defined, it's time to embark on the exciting journey of training your image classification model! DataChain seamlessly integrates with PyTorch, providing you with a powerful and intuitive workflow to train your model effectively. 🚀"
   ]
  },
  {
   "cell_type": "markdown",
   "id": "8dcad30b-0b41-46fa-aa79-d05146db2b9a",
   "metadata": {},
   "source": [
    "## Prepare the training data loader\n",
    "\n",
    "To feed your model with the right data during training, you need to prepare a PyTorch DataLoader. DataChain makes this process a breeze! 💨\n",
    "\n",
    "The code snippet below uses PyTorch's `DataLoader`, which facilitates the efficient loading of data in batches, handling parallel processing with ease.  The `ds.to_pytorch()` function converts the DataChain dataset into a format compatible with PyTorch, leveraging custom readers for images and labels:\n",
    "\n",
    "<!-- - `ImageReader()`: Handles the reading and preprocessing of image data.\n",
    "- `LabelReader(fr_class=\"target\", classes=label_names)`: Fetches labels corresponding to each image, necessary for supervised learning. -->"
   ]
  },
  {
   "cell_type": "code",
   "execution_count": 9,
   "id": "25770553-2e97-4d84-894a-748edddbbc6f",
   "metadata": {
    "execution": {
     "iopub.execute_input": "2024-08-27T17:19:28.792462Z",
     "iopub.status.busy": "2024-08-27T17:19:28.792355Z",
     "iopub.status.idle": "2024-08-27T17:19:30.413725Z",
     "shell.execute_reply": "2024-08-27T17:19:30.413456Z",
     "shell.execute_reply.started": "2024-08-27T17:19:28.792454Z"
    }
   },
   "outputs": [
    {
     "name": "stderr",
     "output_type": "stream",
     "text": [
      "Preparing: 10741 rows [00:00, 26000.22 rows/s]\n",
      "Processed: 10741 rows [00:00, 50143.55 rows/s]\n",
      "Preparing: 10741 rows [00:00, 26855.66 rows/s]\n",
      "Processed: 10741 rows [00:00, 49393.50 rows/s]\n",
      "Saving: 1000 rows [00:00, 73255.27 rows/s]\n",
      "Cleanup: 8 tables [00:00, 2623.90 tables/s]\n"
     ]
    }
   ],
   "source": [
    "# Pytroch DataLoader\n",
    "\n",
    "train_loader = DataLoader(\n",
    "    ds.select(\"file\", \"label\").to_pytorch(transform=transform),\n",
    "    batch_size=2,\n",
    "    num_workers=1,\n",
    ")"
   ]
  },
  {
   "cell_type": "markdown",
   "id": "8bf320e4-b801-4c6b-8a67-f092df3babcd",
   "metadata": {},
   "source": [
    "Notes: \n",
    "- The dataset `ds` includes a 'target' column, which contains the labels for training derived from the previous steps in this tutorial.\n",
    "- `to_pytorch()` converts the dataset to a PyTorch dataset\n",
    "- `transform` is a custom transformation function (imported from `src.train`)"
   ]
  },
  {
   "cell_type": "markdown",
   "id": "9af3523e-7569-4b1d-84bd-1079d01f3331",
   "metadata": {},
   "source": [
    "## Train the model\n",
    "\n",
    "With the dataloader ready, the next step involves initiating the model training. The `train_model` function is a wrapper on typical PyTorch training scripts that takes the prepared `train_loader`. \n",
    "\n",
    "By leveraging the power of PyTorch and DataChain, you can easily train your image classification model on your dataset.\n",
    "\n",
    "`train_loader` trains a convolutional neural network on a given dataset.\n",
    "\n",
    "Args:\n",
    "- train_loader (DataLoader): DataLoader for the training data.\n",
    "- num_classes (int): Number of classes in the dataset.\n",
    "- num_epochs (int, optional): Number of epochs to train the model. Defaults to 20.\n",
    "- lr (float, optional): Learning rate for the optimizer. Defaults to 0.001.\n",
    "\n",
    "Returns:\n",
    "- tuple: A tuple containing the trained model and the optimizer used for training.\n",
    "\n",
    "\n",
    "\n",
    "<details>\n",
    "<summary>Code for the imported `train_model`</summary>\n",
    "\n",
    "```python\n",
    "\n",
    "# Data Transformations\n",
    "transform = v2.Compose([\n",
    "    v2.Compose([v2.ToImage(), v2.ToDtype(torch.float32, scale=True)]),\n",
    "    v2.Resize((64, 64)),\n",
    "    v2.RGB()\n",
    "])\n",
    "\n",
    "\n",
    "# Define torch model\n",
    "class CNN(nn.Module):\n",
    "    def __init__(self, num_classes):\n",
    "        super().__init__()\n",
    "        self.conv1 = nn.Conv2d(3, 16, kernel_size=3, stride=2, padding=1)\n",
    "        self.conv2 = nn.Conv2d(16, 32, kernel_size=3, stride=2, padding=1)\n",
    "        self.conv3 = nn.Conv2d(32, 64, kernel_size=3, stride=2, padding=1)\n",
    "        self.fc1 = nn.Linear(64 * 8 * 8, 512)\n",
    "        self.fc2 = nn.Linear(512, num_classes)\n",
    "\n",
    "    def forward(self, x):\n",
    "        x = torch.relu(self.conv1(x))\n",
    "        x = torch.relu(self.conv2(x))\n",
    "        x = torch.relu(self.conv3(x))\n",
    "        x = x.view(-1, 64 * 8 * 8)\n",
    "        x = torch.relu(self.fc1(x))\n",
    "        x = self.fc2(x)\n",
    "        return x\n",
    "\n",
    "\n",
    "#### Train  #####\n",
    "def train_model(train_loader, num_classes, num_epochs=20, lr=0.001):\n",
    "\n",
    "    model = CNN(num_classes)\n",
    "    criterion = nn.CrossEntropyLoss()\n",
    "    optimizer = optim.Adam(model.parameters(), lr=lr)\n",
    "\n",
    "    epoch_loss = []\n",
    "\n",
    "    for epoch in range(num_epochs):\n",
    "        for i, data in tqdm(enumerate(train_loader)):\n",
    "            inputs, labels = data\n",
    "            # inputs = data[0]\n",
    "            # labels = data[1]\n",
    "            optimizer.zero_grad()\n",
    "\n",
    "            # Forward pass\n",
    "            outputs = model(inputs)\n",
    "            loss = criterion(outputs, labels)\n",
    "            epoch_loss.append(loss.item())\n",
    "\n",
    "            # Backward pass and optimize\n",
    "            loss.backward()\n",
    "            optimizer.step()\n",
    "\n",
    "        epoch_mean_loss = np.mean(epoch_loss)\n",
    "        print(\"[%d, %5d] loss: %.3f\" % (epoch + 1, i + 1, epoch_mean_loss))\n",
    "        epoch_loss = []\n",
    "\n",
    "    print(\"Finished Training\")\n",
    "    return model, optimizer\n",
    "```\n",
    "\n",
    "</details>\n",
    "\n",
    "\n"
   ]
  },
  {
   "cell_type": "code",
   "execution_count": 10,
   "id": "318838e4-7a0c-4427-b952-0f9ee1d9fb18",
   "metadata": {
    "execution": {
     "iopub.execute_input": "2024-08-27T17:19:31.519028Z",
     "iopub.status.busy": "2024-08-27T17:19:31.518481Z",
     "iopub.status.idle": "2024-08-27T17:36:08.833943Z",
     "shell.execute_reply": "2024-08-27T17:36:08.832912Z",
     "shell.execute_reply.started": "2024-08-27T17:19:31.518997Z"
    },
    "scrolled": true
   },
   "outputs": [
    {
     "name": "stderr",
     "output_type": "stream",
     "text": [
      "500it [05:46,  1.44it/s]"
     ]
    },
    {
     "name": "stdout",
     "output_type": "stream",
     "text": [
      "[1,   500] loss: 0.918\n"
     ]
    },
    {
     "name": "stderr",
     "output_type": "stream",
     "text": [
      "\n",
      "500it [05:33,  1.50it/s]"
     ]
    },
    {
     "name": "stdout",
     "output_type": "stream",
     "text": [
      "[2,   500] loss: 0.740\n"
     ]
    },
    {
     "name": "stderr",
     "output_type": "stream",
     "text": [
      "\n",
      "500it [05:16,  1.58it/s]"
     ]
    },
    {
     "name": "stdout",
     "output_type": "stream",
     "text": [
      "[3,   500] loss: 0.524\n",
      "Finished Training\n"
     ]
    },
    {
     "name": "stderr",
     "output_type": "stream",
     "text": [
      "\n"
     ]
    }
   ],
   "source": [
    "model, optimizer = train_model(train_loader, NUM_CLASSES, num_epochs=3,  lr=0.001)"
   ]
  },
  {
   "cell_type": "markdown",
   "id": "1d607b76-b5c0-40de-b4e4-a2a2d42e08ca",
   "metadata": {},
   "source": [
    "# 📊 Evaluate model \n",
    "\n",
    "Congratulations on successfully training your image classification model! 🎉  Now it's time to put your model to the test and evaluate its performance on unseen data. \n",
    "\n",
    "DataChain makes it easy to load your test dataset, create a test data loader, and evaluate your model's predictions against the true labels. 🎯"
   ]
  },
  {
   "cell_type": "markdown",
   "id": "44db5fa9-d994-4dfa-86b5-6c395c3c846c",
   "metadata": {},
   "source": [
    "## Create the Test Data Loader"
   ]
  },
  {
   "cell_type": "code",
   "execution_count": 11,
   "id": "6a335c11-9107-4033-8e2c-a2d669cd9fe3",
   "metadata": {
    "execution": {
     "iopub.execute_input": "2024-08-27T17:36:08.835852Z",
     "iopub.status.busy": "2024-08-27T17:36:08.835621Z",
     "iopub.status.idle": "2024-08-27T17:36:09.244734Z",
     "shell.execute_reply": "2024-08-27T17:36:09.244478Z",
     "shell.execute_reply.started": "2024-08-27T17:36:08.835823Z"
    }
   },
   "outputs": [
    {
     "name": "stderr",
     "output_type": "stream",
     "text": [
      "Preparing: 3090 rows [00:00, 68759.81 rows/s]\n",
      "Processed: 3090 rows [00:00, 37852.85 rows/s]\n",
      "Preparing: 3090 rows [00:00, 76373.32 rows/s]\n",
      "Processed: 3090 rows [00:00, 30274.80 rows/s]\n",
      "Saving: 3090 rows [00:00, 80445.91 rows/s]\n",
      "Cleanup: 4 tables [00:00, 3480.75 tables/s]\n"
     ]
    }
   ],
   "source": [
    "# Load Dataset\n",
    "\n",
    "ds_test = (\n",
    "  DataChain.from_dataset(\"fashion-test\")\n",
    "    .map(target=add_target_label, params=[\"usage\"], output=str)\n",
    "    .map(label=lambda target: label_to_int(target, CLASSES), output=int)\n",
    "    .select(\"file\", \"label\")\n",
    ")\n",
    "\n",
    "# Creating the Test Data Loader\n",
    "\n",
    "test_loader = DataLoader(\n",
    "    ds_test.to_pytorch(transform=transform),\n",
    "    batch_size=16,\n",
    "    num_workers=2,\n",
    ")"
   ]
  },
  {
   "cell_type": "markdown",
   "id": "e29b6e5d-d4fb-43b1-8424-65c3e078193f",
   "metadata": {},
   "source": [
    "- The test dataset is loaded\n",
    "- A test data loader is created\n",
    "- `evaluate_model()` evaluates the model on the test data (imported from `src.train`)\n",
    "- `build_evaluation_report()` generates an evaluation report (imported from `src.train`)"
   ]
  },
  {
   "cell_type": "markdown",
   "id": "29f49600-6243-47bd-bdcf-645c25342da3",
   "metadata": {
    "execution": {
     "iopub.execute_input": "2024-06-14T20:05:12.253164Z",
     "iopub.status.busy": "2024-06-14T20:05:12.252730Z",
     "iopub.status.idle": "2024-06-14T20:05:12.257349Z",
     "shell.execute_reply": "2024-06-14T20:05:12.256684Z",
     "shell.execute_reply.started": "2024-06-14T20:05:12.253135Z"
    }
   },
   "source": [
    "## Generate the Evaluation Report\n",
    "\n",
    "With the test data loader ready, it's time to evaluate your model's performance using the `evaluate_model()` function (imported from `src.train`).\n",
    "- The `evaluate_model()` function takes your trained model, the test data loader, and the label names as input. It returns the model's predictions and the corresponding true labels\n",
    "- To gain deeper insights into your model's performance, use the `build_evaluation_report()` function (imported from `src.train`) to generate a comprehensive evaluation report."
   ]
  },
  {
   "cell_type": "code",
   "execution_count": 12,
   "id": "31dfe6fd-1973-41d1-b038-00a78682671d",
   "metadata": {
    "execution": {
     "iopub.execute_input": "2024-08-27T17:36:09.245314Z",
     "iopub.status.busy": "2024-08-27T17:36:09.245218Z",
     "iopub.status.idle": "2024-08-27T17:45:03.092932Z",
     "shell.execute_reply": "2024-08-27T17:45:03.092113Z",
     "shell.execute_reply.started": "2024-08-27T17:36:09.245306Z"
    }
   },
   "outputs": [
    {
     "name": "stdout",
     "output_type": "stream",
     "text": [
      "Run inference\n"
     ]
    },
    {
     "name": "stderr",
     "output_type": "stream",
     "text": [
      "194it [08:53,  2.75s/it]\n"
     ]
    }
   ],
   "source": [
    "# Get the model's predictions and the corresponding true labels\n",
    "\n",
    "predictions, true_labels = evaluate_model(model, test_loader, CLASSES)\n",
    "# print(predictions[0])"
   ]
  },
  {
   "cell_type": "code",
   "execution_count": 16,
   "id": "fbb68b2e-3f65-4f72-b3d4-9641f2935430",
   "metadata": {
    "execution": {
     "iopub.execute_input": "2024-08-28T10:55:04.979170Z",
     "iopub.status.busy": "2024-08-28T10:55:04.978842Z",
     "iopub.status.idle": "2024-08-28T10:55:05.023534Z",
     "shell.execute_reply": "2024-08-28T10:55:05.023145Z",
     "shell.execute_reply.started": "2024-08-28T10:55:04.979148Z"
    }
   },
   "outputs": [
    {
     "name": "stdout",
     "output_type": "stream",
     "text": [
      "Evaluation reports:\n",
      "\n",
      "Confusion Matrix:\n",
      "[[2145   67    0   38    0    0]\n",
      " [ 119  326    0    0    0    0]\n",
      " [ 198    3   10    1    0    0]\n",
      " [  68    6    0  104    0    0]\n",
      " [   1    0    0    0    0    0]\n",
      " [   4    0    0    0    0    0]]\n",
      "Classification Report:\n",
      "              precision    recall  f1-score   support\n",
      "\n",
      "           0       0.85      0.95      0.90      2250\n",
      "           1       0.81      0.73      0.77       445\n",
      "           2       1.00      0.05      0.09       212\n",
      "           3       0.73      0.58      0.65       178\n",
      "           5       0.00      0.00      0.00         1\n",
      "           7       0.00      0.00      0.00         4\n",
      "\n",
      "    accuracy                           0.84      3090\n",
      "   macro avg       0.56      0.39      0.40      3090\n",
      "weighted avg       0.84      0.84      0.81      3090\n",
      "\n"
     ]
    }
   ],
   "source": [
    "# Generate a comprehensive evaluation report\n",
    "\n",
    "pred_labels = [item[\"pred_class\"] for item in predictions]\n",
    "conf_matrix, class_report = build_evaluation_report(pred_labels, true_labels)"
   ]
  },
  {
   "cell_type": "code",
   "execution_count": 14,
   "id": "42c496ae-f926-4a82-8cf1-dc4a8b5e881f",
   "metadata": {
    "execution": {
     "iopub.execute_input": "2024-08-27T17:45:03.480453Z",
     "iopub.status.busy": "2024-08-27T17:45:03.480154Z",
     "iopub.status.idle": "2024-08-27T17:45:03.831270Z",
     "shell.execute_reply": "2024-08-27T17:45:03.831014Z",
     "shell.execute_reply.started": "2024-08-27T17:45:03.480439Z"
    }
   },
   "outputs": [
    {
     "data": {
      "image/png": "[encoded data removed]",
      "text/plain": [
       "<Figure size 800x600 with 2 Axes>"
      ]
     },
     "metadata": {},
     "output_type": "display_data"
    }
   ],
   "source": [
    "# This is a util script for a better visualisation\n",
    "\n",
    "import matplotlib.pyplot as plt\n",
    "\n",
    "# Plot confusion matrix\n",
    "plt.figure(figsize=(8, 6))\n",
    "plt.imshow(conf_matrix, cmap=plt.cm.Blues)\n",
    "\n",
    "# Add title and axis labels\n",
    "plt.title(\"Confusion Matrix\")\n",
    "plt.xlabel(\"Predicted Label\")\n",
    "plt.ylabel(\"True Label\")\n",
    "\n",
    "# Add color bar\n",
    "plt.colorbar()\n",
    "\n",
    "# Add class labels to axis ticks\n",
    "classes = np.unique(np.concatenate((true_labels, pred_labels)))\n",
    "tick_marks = np.arange(len(classes))\n",
    "plt.xticks(tick_marks, classes)\n",
    "plt.yticks(tick_marks, classes)\n",
    "\n",
    "# Display the values in the cells\n",
    "thresh = conf_matrix.max() / 2.\n",
    "for i in range(conf_matrix.shape[0]):\n",
    "    for j in range(conf_matrix.shape[1]):\n",
    "        plt.text(j, i, format(conf_matrix[i, j], \"d\"),\n",
    "                 horizontalalignment=\"center\",\n",
    "                 color=\"white\" if conf_matrix[i, j] > thresh else \"black\")\n",
    "\n",
    "# Show plot\n",
    "plt.tight_layout()\n",
    "plt.show()"
   ]
  },
  {
   "cell_type": "markdown",
   "id": "02a5996c-5fe0-4142-97ee-6489ef0c770e",
   "metadata": {},
   "source": [
    "# 📦 Save model\n",
    "\n",
    "After evaluating your model, don't forget to save its state along with the optimizer's state and the label names for future use."
   ]
  },
  {
   "cell_type": "code",
   "execution_count": 17,
   "id": "c8b8e5b8-8bf3-4f5b-80e0-4c6fd17a7901",
   "metadata": {
    "execution": {
     "iopub.execute_input": "2024-08-28T10:55:49.817672Z",
     "iopub.status.busy": "2024-08-28T10:55:49.817115Z",
     "iopub.status.idle": "2024-08-28T10:55:49.881723Z",
     "shell.execute_reply": "2024-08-28T10:55:49.881332Z",
     "shell.execute_reply.started": "2024-08-28T10:55:49.817639Z"
    }
   },
   "outputs": [],
   "source": [
    "torch.save({\n",
    "    \"model_state_dict\": model.state_dict(),\n",
    "    \"optimizer_state_dict\": optimizer.state_dict(),\n",
    "    \"classes\": CLASSES,\n",
    "    }, \"model.pth\")"
   ]
  },
  {
   "cell_type": "markdown",
   "id": "abadd0d2-832c-4941-8d8b-11d901e8184c",
   "metadata": {},
   "source": [
    "# ☁️ Run in Studio (SaaS)\n",
    "\n",
    "<a href=\"https://datachain.ai/\">\n",
    "    <img src=\"static/images/studio.png\" alt=\"DataChain Studio SaaS\" style=\"width: 600px;\"/>\n",
    "</a>"
   ]
  },
  {
   "cell_type": "markdown",
   "id": "45a7dcc2-0ad7-45fa-ac59-7daf20864adb",
   "metadata": {},
   "source": [
    "To run these examples in Studio, follow the guide\n",
    "\n",
    "1. Open Studio / YOUR_TEAM / `datasets` workspace\n",
    "2. Create a new Python Script\n",
    "3. Copy/paste a script from (split into a few smaller scripts for convenience only)\n",
    "   - `scripts/3-split-train-test.py`\n",
    "   - `scripts/3-train-model.py`\n",
    "6. Specify Settings: environment requirements and importing modules\n",
    "7. Click the Run button\n"
   ]
  },
  {
   "cell_type": "markdown",
   "id": "9abaf337-5377-4996-8a09-f1ad3100034f",
   "metadata": {
    "execution": {
     "iopub.execute_input": "2024-06-14T20:19:09.038618Z",
     "iopub.status.busy": "2024-06-14T20:19:09.038419Z",
     "iopub.status.idle": "2024-06-14T20:19:09.044076Z",
     "shell.execute_reply": "2024-06-14T20:19:09.043465Z",
     "shell.execute_reply.started": "2024-06-14T20:19:09.038605Z"
    }
   },
   "source": [
    "# 🎉 Summary \n",
    "\n",
    "**🌟 Congratulations! You've Successfully Completed the Training & Evaluation with DataChain Tutorial! 🌟**\n",
    "\n",
    "In this tutorial, you've gained a wealth of knowledge and skills that will elevate your computer vision projects to new heights. Let's recap the key topics covered:\n",
    "\n",
    "1. 🧩 **Splitting Datasets:** Dividing datasets into train, test, and validation subsets using UDF.\n",
    "2. 🎯 **Defining a Target Variable:** UDFs can be used to assign target labels to your images.\n",
    "3. 🔄 **Streamlined Data Loading to PyTorch:** DataChain seamlessly integrates with PyTorch for efficient data loaders.\n",
    "4. 🧠 **Training Your Model:** With a PyTorch Dataloader for train data.\n",
    "5. 📊 **Evaluating Your Model Like a Pro:**  With a PyTorch Dataloader for test data.\n",
    "\n",
    "\n",
    "Once again, congratulations on your incredible achievement! \n",
    "\n",
    "## What's Next?\n",
    "\n",
    "Keep exploring, experimenting, and pushing the boundaries of what's possible in computer vision.  Check out the next parts of our tutorial series:\n",
    "- 🔮 Running Inference and Saving Predictions\n",
    "- 📊 Analyzing Predictions\n",
    "\n",
    "By mastering these techniques, you'll be well on your way to building powerful and efficient computer vision pipelines with DataChain.\n",
    "\n",
    "## Get Involved\n",
    "\n",
    "We'd love to have you join our growing community of DataChain users and contributors! Here's how you can get involved:\n",
    "- ⭐ Give us a star on [GitHub](https://github.com/iterative/datachain) to show your support\n",
    "- 🌐 Visit the [datachain.ai website](https://datachain.ai/) to learn more about our products and services\n",
    "- 📞 Contact us to discuss how DataChain can help streamline your company's ML workflows\n",
    "- 🙌 Follow us on social media for the latest updates and insights\n",
    "\n",
    "Thanks for choosing DataChain, and happy coding! 😄"
   ]
  },
  {
   "cell_type": "code",
   "execution_count": null,
   "id": "6f44408b-06e5-467e-8a5a-3bd40fffcd0a",
   "metadata": {},
   "outputs": [],
   "source": []
  }
 ],
 "metadata": {
  "kernelspec": {
   "display_name": "Python 3 (ipykernel)",
   "language": "python",
   "name": "python3"
  },
  "language_info": {
   "codemirror_mode": {
    "name": "ipython",
    "version": 3
   },
   "file_extension": ".py",
   "mimetype": "text/x-python",
   "name": "python",
   "nbconvert_exporter": "python",
   "pygments_lexer": "ipython3",
   "version": "3.12.4"
  }
 },
 "nbformat": 4,
 "nbformat_minor": 5
}
